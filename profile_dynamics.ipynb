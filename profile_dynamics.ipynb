{
 "cells": [
  {
   "cell_type": "markdown",
   "id": "9505a176-cfe3-4e84-9b3a-7d57cbe2c5a9",
   "metadata": {},
   "source": [
    "# Multiscale sediment dynamics"
   ]
  },
  {
   "cell_type": "code",
   "execution_count": null,
   "id": "3efa660b-8a7b-4fee-ba0b-3809f28686c7",
   "metadata": {},
   "outputs": [],
   "source": [
    "%matplotlib notebook\n",
    "\n",
    "from pathlib import Path\n",
    "import matplotlib.pyplot as plt\n",
    "import pickle\n",
    "import pandas as pd\n",
    "import seaborn as sb\n",
    "\n",
    "from sandpyper.common import sensitivity_tr_rbcd, plot_sensitivity_rbcds_transects\n",
    "from sandpyper.sandpyper import ProfileDynamics\n",
    "\n",
    "pd.options.mode.chained_assignment = None  # default='warn'"
   ]
  },
  {
   "cell_type": "code",
   "execution_count": null,
   "id": "52d09b57-a79d-4c68-95cb-dfbb31169329",
   "metadata": {},
   "outputs": [],
   "source": [
    "# set the test data folder path\n",
    "test_data_folder = r\"C:\\my_packages\\sandpyper\\examples\\test_data\"\n",
    "\n",
    "ProfileSet_path=Path(test_data_folder + r\"\\test.p\")"
   ]
  },
  {
   "cell_type": "code",
   "execution_count": null,
   "id": "dfda2837-2f59-49c9-9a85-865abd401519",
   "metadata": {},
   "outputs": [],
   "source": [
    "P=pickle.load(open(ProfileSet_path, \"rb\"))"
   ]
  },
  {
   "cell_type": "code",
   "execution_count": null,
   "id": "8fd62a67-fda0-4fa3-85cf-dbcc5cd46450",
   "metadata": {},
   "outputs": [],
   "source": [
    "labels=[\"Undefined\", \"Small\", \"Medium\", \"High\", \"Extreme\"]"
   ]
  },
  {
   "cell_type": "code",
   "execution_count": null,
   "id": "35bc9327-b343-46dc-a8ac-09e57add8c05",
   "metadata": {},
   "outputs": [],
   "source": [
    "D = ProfileDynamics(P, bins=5, method=\"JenksCaspall\", labels=labels)"
   ]
  },
  {
   "cell_type": "code",
   "execution_count": null,
   "id": "62518e32-ba50-415c-9e06-879475991cef",
   "metadata": {},
   "outputs": [],
   "source": [
    "D.compute_multitemporal(loc_full={'mar': 'Marengo',\n",
    "         'leo': 'St. Leonards'}, filter_class='sand')"
   ]
  },
  {
   "cell_type": "code",
   "execution_count": null,
   "id": "236042fe-7ee1-43f8-908a-617708b68f0c",
   "metadata": {},
   "outputs": [],
   "source": [
    "D.dh_df.head()"
   ]
  },
  {
   "cell_type": "code",
   "execution_count": null,
   "id": "8543f048-5035-4a20-845d-21cb2b4da986",
   "metadata": {},
   "outputs": [],
   "source": [
    "D.dh_details"
   ]
  },
  {
   "cell_type": "code",
   "execution_count": null,
   "id": "0e2dbabc-449c-403d-bb7d-5c95610b4399",
   "metadata": {},
   "outputs": [],
   "source": [
    "D.lod_dh.head()"
   ]
  },
  {
   "cell_type": "code",
   "execution_count": null,
   "id": "f53d8b64-e616-465b-b5ad-b7f8020e64d3",
   "metadata": {},
   "outputs": [],
   "source": [
    "D.lod_df.head()"
   ]
  },
  {
   "cell_type": "code",
   "execution_count": null,
   "id": "ec6fd1ae-dabc-4555-9a9e-b1d0d4de0801",
   "metadata": {},
   "outputs": [],
   "source": [
    "D.plot_lod_normality_check(locations=['leo'])"
   ]
  },
  {
   "cell_type": "code",
   "execution_count": null,
   "id": "adaf9dac-3727-46a1-b574-68b071a8403b",
   "metadata": {},
   "outputs": [],
   "source": [
    "# compute volumetrics\n",
    "\n",
    "D.compute_volumetrics(lod=D.lod_df)"
   ]
  },
  {
   "cell_type": "code",
   "execution_count": null,
   "id": "784d3ae6-a6f1-4d1d-a9c5-2da522b61bc7",
   "metadata": {},
   "outputs": [],
   "source": [
    "# let's plot transect ID 10 in Marengo, for dt_2 and dt_3 with no classification applied.\n",
    "\n",
    "D.plot_transects(location='mar', tr_id=10, from_date='20180727', to_date='20180925', classified=False)"
   ]
  },
  {
   "cell_type": "code",
   "execution_count": null,
   "id": "64f0c730-8315-4a48-b145-5bd190aa3d57",
   "metadata": {},
   "outputs": [],
   "source": [
    "# same, with classification applied.\n",
    "\n",
    "D.plot_transects(location='mar', tr_id=10, dt=['dt_2','dt_3'], classified=True)"
   ]
  },
  {
   "cell_type": "code",
   "execution_count": null,
   "id": "f39c4c25-57bb-4c67-b459-5fdde6b23c01",
   "metadata": {},
   "outputs": [],
   "source": [
    "# plots mean elevation change of transect ID 10 in marengo across all time periods\n",
    "# no LoD filter is applied, all the points are retained.\n",
    "\n",
    "D.plot_transect_mecs(location='mar',tr_id=10)"
   ]
  },
  {
   "cell_type": "code",
   "execution_count": null,
   "id": "0fbfd031-f74b-4006-be01-d6b90184972d",
   "metadata": {},
   "outputs": [],
   "source": [
    "# same as above but with the LoD filter applied, therefore retaining only reliable elvation changes.\n",
    "\n",
    "D.plot_transect_mecs(location='mar', lod=D.lod_df, tr_id=10)"
   ]
  },
  {
   "cell_type": "code",
   "execution_count": null,
   "id": "cd82d9ce-046b-4667-8c49-c265b27d7dc0",
   "metadata": {},
   "outputs": [],
   "source": [
    "# LoD in each period of change in Marengo\n",
    "D.lod_df.query(\"location=='mar'\")[['dt','lod']]"
   ]
  },
  {
   "cell_type": "code",
   "execution_count": null,
   "id": "e4940a1f-c14e-490b-b189-e8e8c44baec0",
   "metadata": {},
   "outputs": [],
   "source": [
    "f, axs=plt.subplots(nrows=2,\n",
    "                   ncols=2,\n",
    "                   figsize=(8,8))\n",
    "\n",
    "# Marengo dt_0\n",
    "sb.kdeplot(data=D.dh_df.query(\"location=='mar' and dt=='dt_0'\"),\n",
    "            x='dh', ax=axs[0][0])\n",
    "axs[0][0].axvspan(-0.03, 0.03, color='r', alpha=0.3, lw=0)\n",
    "axs[0][0].set_title('Marengo dt_0')\n",
    "\n",
    "# Marengo dt_2\n",
    "sb.kdeplot(data=D.dh_df.query(\"location=='mar' and dt=='dt_2'\"),\n",
    "            x='dh', ax=axs[0][1])\n",
    "axs[0][1].axvspan(-0.03, 0.03, color='r', alpha=0.3, lw=0)\n",
    "axs[0][1].set_title('Marengo dt_2')\n",
    "\n",
    "# Marengo dt_4\n",
    "sb.kdeplot(data=D.dh_df.query(\"location=='mar' and dt=='dt_4'\"),\n",
    "            x='dh', ax=axs[1][0])\n",
    "axs[1][0].axvspan(-0.1, 0.1, color='r', alpha=0.3, lw=0)\n",
    "axs[1][0].set_title('Marengo dt_4')\n",
    "\n",
    "# Marengo dt_6\n",
    "sb.kdeplot(data=D.dh_df.query(\"location=='mar' and dt=='dt_6'\"),\n",
    "            x='dh', ax=axs[1][1])\n",
    "axs[1][1].axvspan(-0.04, 0.04, color='r', alpha=0.3, lw=0)\n",
    "axs[1][1].set_title('Marengo dt_6')"
   ]
  },
  {
   "cell_type": "code",
   "execution_count": null,
   "id": "760c44aa-dafb-40a8-a237-5f94daa6dcd4",
   "metadata": {},
   "outputs": [],
   "source": [
    "D.plot_alongshore_change(mode='subset',       # to plot only a subset of locations and dts, rather than all\n",
    "                         dt_subset=['dt_2', 'dt_3'],\n",
    "                         location_subset=[\"mar\"],\n",
    "                         lod=D.lod_df, # LoD will be applied when provided in form of lod dataframe or single (global) value\n",
    "                         ax2_y_lims=(-10, 20), # lineplot y axis limits\n",
    "                        fig_size=(10,6),\n",
    "                        font_scale=.9,\n",
    "                        plots_spacing=0, # spacing between the two plots. Try .1, it is also nice\n",
    "                        bottom=True,\n",
    "                        y_heat_bottom_limit=40, # how far seawar the heatmap will extent.\n",
    "                        heat_yticklabels_freq=10,\n",
    "                        heat_xticklabels_freq=10,)"
   ]
  },
  {
   "cell_type": "code",
   "execution_count": null,
   "id": "e62ca7b6-4028-47f7-85c4-674715f5bf57",
   "metadata": {},
   "outputs": [],
   "source": [
    "D.plot_single_loc([\"mar\"],None)"
   ]
  },
  {
   "cell_type": "code",
   "execution_count": null,
   "id": "dddbe99e-a604-4ff3-9471-7411eeb98125",
   "metadata": {},
   "outputs": [],
   "source": [
    "# scale_mode can be 'auto', which means the x axis is location-specific, or 'equal', better for comparison.\n",
    "\n",
    "D.plot_mec_evolution(x_limits=(-.2, .8), scale_mode='equal',\n",
    "                     loc_order=[\"leo\",\"mar\"],\n",
    "                    x_binning=10,\n",
    "                    figure_size=(6, 7),\n",
    "                    font_scale=1.2)"
   ]
  },
  {
   "cell_type": "code",
   "execution_count": null,
   "id": "d7cc7025-dd6c-4a10-9b3f-9e862536065d",
   "metadata": {},
   "outputs": [],
   "source": [
    "# scale_mode can be 'auto', which means the x axis is location-specific, or 'equal', better for comparison.\n",
    "\n",
    "D.plot_mec_evolution(x_limits=(-.2, .8), scale_mode='auto',\n",
    "                     loc_order=[\"leo\",\"mar\"],\n",
    "                    x_binning=10,\n",
    "                    figure_size=(6, 7),\n",
    "                    font_scale=1.2)"
   ]
  },
  {
   "cell_type": "code",
   "execution_count": null,
   "id": "6a3e7fcf-c5a2-44cf-ac83-fc8086fa7d4a",
   "metadata": {},
   "outputs": [],
   "source": [
    "x_diff={'leo':[-0.12, 0.1]}\n",
    "\n",
    "D.plot_mec_evolution(x_limits=(-.2, .8), scale_mode='equal',\n",
    "                     x_diff=x_diff,\n",
    "                     dates_step=15,\n",
    "                     loc_order=[\"leo\",\"mar\"],\n",
    "                    x_binning=10,\n",
    "                    figure_size=(6, 7),\n",
    "                    font_scale=1.2)"
   ]
  },
  {
   "cell_type": "code",
   "execution_count": null,
   "id": "57c96b14-abaa-4395-9e2a-27aa8d49d213",
   "metadata": {},
   "outputs": [],
   "source": [
    "D.LISA_site_level(mode=\"knn\", k_value=50)"
   ]
  },
  {
   "cell_type": "code",
   "execution_count": null,
   "id": "eaff6f3d-fa6a-40a3-b3f7-7113ac04eccf",
   "metadata": {},
   "outputs": [],
   "source": [
    "D.hotspots.shape"
   ]
  },
  {
   "cell_type": "code",
   "execution_count": null,
   "id": "795c968f-b2dd-4b27-8fe6-30037e21a063",
   "metadata": {},
   "outputs": [],
   "source": [
    "D.hotspots.query(\"location=='leo' and dt=='dt_2' and lisa_q in [1,3]\").plot(column='lisa_q', categorical=True,\n",
    "                                                                            cmap='RdBu')"
   ]
  },
  {
   "cell_type": "code",
   "execution_count": null,
   "id": "b6c04fe6-df81-4e40-a725-7c74f9cb1a0c",
   "metadata": {},
   "outputs": [],
   "source": [
    "appendix=[\"_deposition\", \"_erosion\"]\n",
    "\n",
    "D.discretise(absolute=True, print_summary=True, lod=D.lod_df, appendix=appendix)"
   ]
  },
  {
   "cell_type": "code",
   "execution_count": null,
   "id": "57568517-69f9-4dcb-bf91-f8efd62164d3",
   "metadata": {},
   "outputs": [],
   "source": [
    "D.infer_weights()\n",
    "\n",
    "D.weights_dict"
   ]
  },
  {
   "cell_type": "code",
   "execution_count": null,
   "id": "54c7fa13-8660-42fb-a45a-1f31e77b9a25",
   "metadata": {},
   "outputs": [],
   "source": [
    "# create the weight dictionary\n",
    "\n",
    "my_weights_dict={'Undefined_deposition': 1,\n",
    " 'Undefined_erosion': 1,\n",
    " 'Small_deposition': 1,\n",
    " 'Small_erosion': 1,\n",
    " 'Medium_deposition': 1,\n",
    " 'Medium_erosion': 1,\n",
    " 'High_deposition': 3,\n",
    " 'High_erosion': 3,\n",
    " 'Extreme_deposition': 8,\n",
    " 'Extreme_erosion': 8}\n",
    "\n",
    "# add it to the ProfileDynamics object\n",
    "\n",
    "D.weights_dict = my_weights_dict\n",
    "\n",
    "D.weights_dict"
   ]
  },
  {
   "cell_type": "code",
   "execution_count": null,
   "id": "519e989b-d20c-4382-932a-9e3b3a2c726a",
   "metadata": {},
   "outputs": [],
   "source": [
    "D.infer_weights()\n",
    "\n",
    "D.weights_dict"
   ]
  },
  {
   "cell_type": "code",
   "execution_count": null,
   "id": "e0d4e63d-9293-40b4-83c1-901da3cbbb38",
   "metadata": {},
   "outputs": [],
   "source": [
    "D.BCD_compute_location(\"geometry\",\"all\",True, filterit='lod')"
   ]
  },
  {
   "cell_type": "code",
   "execution_count": null,
   "id": "09b8df91-8444-487e-b0f8-a9559b808e01",
   "metadata": {},
   "outputs": [],
   "source": [
    "D.location_ebcds"
   ]
  },
  {
   "cell_type": "code",
   "execution_count": null,
   "id": "fc5ab047-fc1d-48c7-a780-774c7f7d1615",
   "metadata": {},
   "outputs": [],
   "source": [
    "D.location_ss"
   ]
  },
  {
   "cell_type": "code",
   "execution_count": null,
   "id": "63d4e572-7287-40bc-886c-7de663a82290",
   "metadata": {},
   "outputs": [],
   "source": [
    "# the following dictionary is used to rename the magnitude of change classes into small codes\n",
    "#such as 'me' for Medium Erosion or 'sd' for Small Deposition. This is done purely for graphical purposes.\n",
    "\n",
    "relabel_dict={'Undefined_deposition': 'ue',\n",
    " 'Undefined_erosion': 'ue',\n",
    " 'Small_deposition': 'sd',\n",
    " 'Small_erosion': 'se',\n",
    " 'Medium_deposition': 'md',\n",
    " 'Medium_erosion': 'me',\n",
    " 'High_deposition': 'hd',\n",
    " 'High_erosion': 'he',\n",
    " 'Extreme_deposition': 'ed',\n",
    " 'Extreme_erosion': 'ee'}"
   ]
  },
  {
   "cell_type": "code",
   "execution_count": null,
   "id": "ad575cef-40fb-4b1e-a20e-15ac7d04e579",
   "metadata": {},
   "outputs": [],
   "source": [
    "%matplotlib inline\n",
    "\n",
    "#let's plot those matrices\n",
    "\n",
    "D.plot_trans_matrices(relabel_dict)"
   ]
  },
  {
   "cell_type": "code",
   "execution_count": null,
   "id": "b3c11b62-a61b-4785-92c5-9675acab7f1d",
   "metadata": {},
   "outputs": [],
   "source": [
    "%matplotlib inline\n",
    "\n",
    "#let's plot those matrices\n",
    "\n",
    "D.plot_trans_matrices(relabel_dict)"
   ]
  },
  {
   "cell_type": "code",
   "execution_count": null,
   "id": "5c35b1c2-87ea-46f6-bdf9-d13ee64d70b4",
   "metadata": {},
   "outputs": [],
   "source": [
    "order=[i for i in D.tags_order if i !='nnn']\n",
    "ss=D.location_ss.loc[order] \n",
    "ss"
   ]
  },
  {
   "cell_type": "code",
   "execution_count": null,
   "id": "bf3ba5a8-039c-42b6-85c3-cc508ba93fe4",
   "metadata": {},
   "outputs": [],
   "source": [
    "plt.rcParams['font.sans-serif'] = 'Arial'\n",
    "plt.rcParams['font.family'] = 'sans-serif'\n",
    "sb.set_context(\"paper\", font_scale=2)\n",
    "\n",
    "\n",
    "f,ax=plt.subplots(figsize=(12,10))\n",
    "\n",
    "sb.heatmap(ss, cmap=\"Blues\",annot=True,\n",
    "           annot_kws={'size':14},linewidths=1,linecolor=\"white\", cbar_kws={'label': 'Lim. Probabilities'});\n",
    "\n",
    "#f.savefig(r'E:\\\\path\\\\to\\\\save\\\\picture.png', dpi=600); "
   ]
  },
  {
   "cell_type": "code",
   "execution_count": null,
   "id": "aceab107-6e3c-41d4-956d-32f848051792",
   "metadata": {},
   "outputs": [],
   "source": [
    "loc_specs={'mar':{'thresh':6,\n",
    "       'min_points':6}}\n",
    "\n",
    "D.BCD_compute_transects(loc_specs=loc_specs,reliable_action='keep', dirNameTrans=D.ProfileSet.dirNameTrans)"
   ]
  },
  {
   "cell_type": "code",
   "execution_count": null,
   "id": "dbe67d68-d253-49c2-ac32-f99692fcf7ad",
   "metadata": {},
   "outputs": [],
   "source": [
    "D.transects_rbcd.query(\"location=='mar'\").plot(column=\"residual\", cmap='RdBu_r')"
   ]
  },
  {
   "cell_type": "code",
   "execution_count": null,
   "id": "065bf752-26d4-49ee-a622-cc061ffe84e5",
   "metadata": {},
   "outputs": [],
   "source": [
    "ss_tr_big = sensitivity_tr_rbcd(D,\n",
    "                                test_thresholds='max',\n",
    "                                test_min_pts=[0,20,2])"
   ]
  },
  {
   "cell_type": "code",
   "execution_count": null,
   "id": "c62c7389-de1f-4f03-9bef-885f30d8df3c",
   "metadata": {},
   "outputs": [],
   "source": [
    "f,ax=plt.subplots(figsize=(10,10))\n",
    "\n",
    "palette=sb.color_palette( n_colors=ss_tr_big.query(\"location=='mar'\").tr_id.unique().shape[0])\n",
    "sb.lineplot(data=ss_tr_big.query(\"location=='mar'\"), x='thresh',y='residual', hue='tr_id', \n",
    "            palette=palette, legend=False, **dict(alpha=0.5),\n",
    "            ax=ax\n",
    ")\n",
    "ax.set_ylabel(\"r_bcd\")\n",
    "ax.axhline(y=0, lw=2, c='r');"
   ]
  },
  {
   "cell_type": "code",
   "execution_count": null,
   "id": "bcad8e8e-de4c-4e45-b3ea-de178337fe60",
   "metadata": {},
   "outputs": [],
   "source": [
    "plot_sensitivity_rbcds_transects(ss_tr_big, location='mar')"
   ]
  },
  {
   "cell_type": "code",
   "execution_count": null,
   "id": "81f941b3-86cb-4fda-a7dd-fb3538c6d2e6",
   "metadata": {},
   "outputs": [],
   "source": []
  }
 ],
 "metadata": {
  "kernelspec": {
   "display_name": "Python 3 (ipykernel)",
   "language": "python",
   "name": "python3"
  },
  "language_info": {
   "codemirror_mode": {
    "name": "ipython",
    "version": 3
   },
   "file_extension": ".py",
   "mimetype": "text/x-python",
   "name": "python",
   "nbconvert_exporter": "python",
   "pygments_lexer": "ipython3",
   "version": "3.10.8"
  }
 },
 "nbformat": 4,
 "nbformat_minor": 5
}
