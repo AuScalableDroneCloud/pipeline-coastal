{
 "cells": [
  {
   "cell_type": "markdown",
   "id": "9505a176-cfe3-4e84-9b3a-7d57cbe2c5a9",
   "metadata": {},
   "source": [
    "# Multiscale sediment dynamics"
   ]
  },
  {
   "cell_type": "code",
   "execution_count": 10,
   "id": "3efa660b-8a7b-4fee-ba0b-3809f28686c7",
   "metadata": {},
   "outputs": [
    {
     "name": "stdout",
     "output_type": "stream",
     "text": [
      "Requirement already satisfied: geopandas>=0.8.2 in /opt/conda/lib/python3.10/site-packages (from -r requirements.txt (line 1)) (0.13.2)\n",
      "Requirement already satisfied: matplotlib>=3.3.4 in /opt/conda/lib/python3.10/site-packages (from -r requirements.txt (line 2)) (3.7.1)\n",
      "Requirement already satisfied: numpy>=1.20.1 in /opt/conda/lib/python3.10/site-packages (from -r requirements.txt (line 3)) (1.24.3)\n",
      "Requirement already satisfied: pandas>=1.2.2 in /opt/conda/lib/python3.10/site-packages (from -r requirements.txt (line 4)) (2.0.2)\n",
      "Requirement already satisfied: pysal>=2.1 in /opt/conda/lib/python3.10/site-packages (from -r requirements.txt (line 5)) (23.1)\n",
      "Requirement already satisfied: rasterio>=1.2.0 in /opt/conda/lib/python3.10/site-packages (from -r requirements.txt (line 6)) (1.3.7)\n",
      "Requirement already satisfied: richdem>=0.3.4 in /opt/conda/lib/python3.10/site-packages (from -r requirements.txt (line 7)) (0.3.4)\n",
      "Requirement already satisfied: scikit-image>=0.18.1 in /opt/conda/lib/python3.10/site-packages (from -r requirements.txt (line 8)) (0.20.0)\n",
      "Requirement already satisfied: scikit-learn>=0.24.1 in /opt/conda/lib/python3.10/site-packages (from -r requirements.txt (line 9)) (1.2.2)\n",
      "Requirement already satisfied: scipy>=1.6.0 in /opt/conda/lib/python3.10/site-packages (from -r requirements.txt (line 10)) (1.10.1)\n",
      "Requirement already satisfied: seaborn>=0.11.1 in /opt/conda/lib/python3.10/site-packages (from -r requirements.txt (line 11)) (0.12.2)\n",
      "Requirement already satisfied: tqdm>=4.56.2 in /opt/conda/lib/python3.10/site-packages (from -r requirements.txt (line 12)) (4.65.0)\n",
      "Requirement already satisfied: pooch>=1.4.0 in /opt/conda/lib/python3.10/site-packages (from -r requirements.txt (line 13)) (1.7.0)\n",
      "Requirement already satisfied: fuzzywuzzy in /opt/conda/lib/python3.10/site-packages (from -r requirements.txt (line 14)) (0.18.0)\n",
      "Requirement already satisfied: fiona>=1.8.19 in /opt/conda/lib/python3.10/site-packages (from geopandas>=0.8.2->-r requirements.txt (line 1)) (1.9.4.post1)\n",
      "Requirement already satisfied: packaging in /opt/conda/lib/python3.10/site-packages (from geopandas>=0.8.2->-r requirements.txt (line 1)) (21.3)\n",
      "Requirement already satisfied: pyproj>=3.0.1 in /opt/conda/lib/python3.10/site-packages (from geopandas>=0.8.2->-r requirements.txt (line 1)) (3.5.0)\n",
      "Requirement already satisfied: shapely>=1.7.1 in /opt/conda/lib/python3.10/site-packages (from geopandas>=0.8.2->-r requirements.txt (line 1)) (2.0.1)\n",
      "Requirement already satisfied: contourpy>=1.0.1 in /opt/conda/lib/python3.10/site-packages (from matplotlib>=3.3.4->-r requirements.txt (line 2)) (1.0.7)\n",
      "Requirement already satisfied: cycler>=0.10 in /opt/conda/lib/python3.10/site-packages (from matplotlib>=3.3.4->-r requirements.txt (line 2)) (0.11.0)\n",
      "Requirement already satisfied: fonttools>=4.22.0 in /opt/conda/lib/python3.10/site-packages (from matplotlib>=3.3.4->-r requirements.txt (line 2)) (4.39.4)\n",
      "Requirement already satisfied: kiwisolver>=1.0.1 in /opt/conda/lib/python3.10/site-packages (from matplotlib>=3.3.4->-r requirements.txt (line 2)) (1.4.4)\n",
      "Requirement already satisfied: pillow>=6.2.0 in /opt/conda/lib/python3.10/site-packages (from matplotlib>=3.3.4->-r requirements.txt (line 2)) (9.5.0)\n",
      "Requirement already satisfied: pyparsing>=2.3.1 in /opt/conda/lib/python3.10/site-packages (from matplotlib>=3.3.4->-r requirements.txt (line 2)) (3.0.9)\n",
      "Requirement already satisfied: python-dateutil>=2.7 in /opt/conda/lib/python3.10/site-packages (from matplotlib>=3.3.4->-r requirements.txt (line 2)) (2.8.2)\n",
      "Requirement already satisfied: pytz>=2020.1 in /opt/conda/lib/python3.10/site-packages (from pandas>=1.2.2->-r requirements.txt (line 4)) (2022.6)\n",
      "Requirement already satisfied: tzdata>=2022.1 in /opt/conda/lib/python3.10/site-packages (from pandas>=1.2.2->-r requirements.txt (line 4)) (2023.3)\n",
      "Requirement already satisfied: libpysal>=4.7.0 in /opt/conda/lib/python3.10/site-packages (from pysal>=2.1->-r requirements.txt (line 5)) (4.7.0)\n",
      "Requirement already satisfied: access>=1.1.8 in /opt/conda/lib/python3.10/site-packages (from pysal>=2.1->-r requirements.txt (line 5)) (1.1.9)\n",
      "Requirement already satisfied: esda>=2.4.1 in /opt/conda/lib/python3.10/site-packages (from pysal>=2.1->-r requirements.txt (line 5)) (2.4.3)\n",
      "Requirement already satisfied: giddy>=2.3.3 in /opt/conda/lib/python3.10/site-packages (from pysal>=2.1->-r requirements.txt (line 5)) (2.3.4)\n",
      "Requirement already satisfied: inequality>=1.0.0 in /opt/conda/lib/python3.10/site-packages (from pysal>=2.1->-r requirements.txt (line 5)) (1.0.0)\n",
      "Requirement already satisfied: pointpats>=2.2.0 in /opt/conda/lib/python3.10/site-packages (from pysal>=2.1->-r requirements.txt (line 5)) (2.3.0)\n",
      "Requirement already satisfied: segregation>=2.3.1 in /opt/conda/lib/python3.10/site-packages (from pysal>=2.1->-r requirements.txt (line 5)) (2.4.2)\n",
      "Requirement already satisfied: spaghetti>=1.7.2 in /opt/conda/lib/python3.10/site-packages (from pysal>=2.1->-r requirements.txt (line 5)) (1.7.3)\n",
      "Requirement already satisfied: mgwr>=2.1.2 in /opt/conda/lib/python3.10/site-packages (from pysal>=2.1->-r requirements.txt (line 5)) (2.1.2)\n",
      "Requirement already satisfied: momepy>=0.5.4 in /opt/conda/lib/python3.10/site-packages (from pysal>=2.1->-r requirements.txt (line 5)) (0.6.0)\n",
      "Requirement already satisfied: spglm>=1.0.8 in /opt/conda/lib/python3.10/site-packages (from pysal>=2.1->-r requirements.txt (line 5)) (1.0.8)\n",
      "Requirement already satisfied: spint>=1.0.7 in /opt/conda/lib/python3.10/site-packages (from pysal>=2.1->-r requirements.txt (line 5)) (1.0.7)\n",
      "Requirement already satisfied: spreg>=1.3.0 in /opt/conda/lib/python3.10/site-packages (from pysal>=2.1->-r requirements.txt (line 5)) (1.3.2)\n",
      "Requirement already satisfied: spvcm>=0.3.0 in /opt/conda/lib/python3.10/site-packages (from pysal>=2.1->-r requirements.txt (line 5)) (0.3.0)\n",
      "Requirement already satisfied: tobler>=0.8.2 in /opt/conda/lib/python3.10/site-packages (from pysal>=2.1->-r requirements.txt (line 5)) (0.10)\n",
      "Requirement already satisfied: mapclassify>=2.5.0 in /opt/conda/lib/python3.10/site-packages (from pysal>=2.1->-r requirements.txt (line 5)) (2.5.0)\n",
      "Requirement already satisfied: splot>=1.1.5.post1 in /opt/conda/lib/python3.10/site-packages (from pysal>=2.1->-r requirements.txt (line 5)) (1.1.5.post1)\n",
      "Requirement already satisfied: spopt>=0.5.0 in /opt/conda/lib/python3.10/site-packages (from pysal>=2.1->-r requirements.txt (line 5)) (0.5.0)\n",
      "Requirement already satisfied: affine in /opt/conda/lib/python3.10/site-packages (from rasterio>=1.2.0->-r requirements.txt (line 6)) (2.4.0)\n",
      "Requirement already satisfied: attrs in /opt/conda/lib/python3.10/site-packages (from rasterio>=1.2.0->-r requirements.txt (line 6)) (22.1.0)\n",
      "Requirement already satisfied: certifi in /opt/conda/lib/python3.10/site-packages (from rasterio>=1.2.0->-r requirements.txt (line 6)) (2022.9.24)\n",
      "Requirement already satisfied: click>=4.0 in /opt/conda/lib/python3.10/site-packages (from rasterio>=1.2.0->-r requirements.txt (line 6)) (8.1.3)\n",
      "Requirement already satisfied: cligj>=0.5 in /opt/conda/lib/python3.10/site-packages (from rasterio>=1.2.0->-r requirements.txt (line 6)) (0.7.2)\n",
      "Requirement already satisfied: snuggs>=1.4.1 in /opt/conda/lib/python3.10/site-packages (from rasterio>=1.2.0->-r requirements.txt (line 6)) (1.4.7)\n",
      "Requirement already satisfied: click-plugins in /opt/conda/lib/python3.10/site-packages (from rasterio>=1.2.0->-r requirements.txt (line 6)) (1.1.1)\n",
      "Requirement already satisfied: setuptools in /opt/conda/lib/python3.10/site-packages (from rasterio>=1.2.0->-r requirements.txt (line 6)) (65.5.1)\n",
      "Requirement already satisfied: networkx>=2.8 in /opt/conda/lib/python3.10/site-packages (from scikit-image>=0.18.1->-r requirements.txt (line 8)) (3.1)\n",
      "Requirement already satisfied: imageio>=2.4.1 in /opt/conda/lib/python3.10/site-packages (from scikit-image>=0.18.1->-r requirements.txt (line 8)) (2.30.0)\n",
      "Requirement already satisfied: tifffile>=2019.7.26 in /opt/conda/lib/python3.10/site-packages (from scikit-image>=0.18.1->-r requirements.txt (line 8)) (2023.4.12)\n",
      "Requirement already satisfied: PyWavelets>=1.1.1 in /opt/conda/lib/python3.10/site-packages (from scikit-image>=0.18.1->-r requirements.txt (line 8)) (1.4.1)\n",
      "Requirement already satisfied: lazy_loader>=0.1 in /opt/conda/lib/python3.10/site-packages (from scikit-image>=0.18.1->-r requirements.txt (line 8)) (0.2)\n",
      "Requirement already satisfied: joblib>=1.1.1 in /opt/conda/lib/python3.10/site-packages (from scikit-learn>=0.24.1->-r requirements.txt (line 9)) (1.2.0)\n",
      "Requirement already satisfied: threadpoolctl>=2.0.0 in /opt/conda/lib/python3.10/site-packages (from scikit-learn>=0.24.1->-r requirements.txt (line 9)) (3.1.0)\n",
      "Requirement already satisfied: platformdirs>=2.5.0 in /opt/conda/lib/python3.10/site-packages (from pooch>=1.4.0->-r requirements.txt (line 13)) (2.5.2)\n",
      "Requirement already satisfied: requests>=2.19.0 in /opt/conda/lib/python3.10/site-packages (from pooch>=1.4.0->-r requirements.txt (line 13)) (2.28.1)\n",
      "Requirement already satisfied: six in /opt/conda/lib/python3.10/site-packages (from fiona>=1.8.19->geopandas>=0.8.2->-r requirements.txt (line 1)) (1.16.0)\n",
      "Requirement already satisfied: quantecon>=0.4.7 in /opt/conda/lib/python3.10/site-packages (from giddy>=2.3.3->pysal>=2.1->-r requirements.txt (line 5)) (0.7.1)\n",
      "Requirement already satisfied: beautifulsoup4 in /opt/conda/lib/python3.10/site-packages (from libpysal>=4.7.0->pysal>=2.1->-r requirements.txt (line 5)) (4.11.1)\n",
      "Requirement already satisfied: jinja2 in /opt/conda/lib/python3.10/site-packages (from libpysal>=4.7.0->pysal>=2.1->-r requirements.txt (line 5)) (3.1.2)\n",
      "Requirement already satisfied: charset-normalizer<3,>=2 in /opt/conda/lib/python3.10/site-packages (from requests>=2.19.0->pooch>=1.4.0->-r requirements.txt (line 13)) (2.1.1)\n",
      "Requirement already satisfied: idna<4,>=2.5 in /opt/conda/lib/python3.10/site-packages (from requests>=2.19.0->pooch>=1.4.0->-r requirements.txt (line 13)) (3.4)\n",
      "Requirement already satisfied: urllib3<1.27,>=1.21.1 in /opt/conda/lib/python3.10/site-packages (from requests>=2.19.0->pooch>=1.4.0->-r requirements.txt (line 13)) (1.26.13)\n",
      "Requirement already satisfied: deprecation in /opt/conda/lib/python3.10/site-packages (from segregation>=2.3.1->pysal>=2.1->-r requirements.txt (line 5)) (2.1.0)\n",
      "Requirement already satisfied: numba in /opt/conda/lib/python3.10/site-packages (from segregation>=2.3.1->pysal>=2.1->-r requirements.txt (line 5)) (0.57.0)\n",
      "Requirement already satisfied: rtree in /opt/conda/lib/python3.10/site-packages (from spaghetti>=1.7.2->pysal>=2.1->-r requirements.txt (line 5)) (1.0.1)\n",
      "Requirement already satisfied: pulp in /opt/conda/lib/python3.10/site-packages (from spopt>=0.5.0->pysal>=2.1->-r requirements.txt (line 5)) (2.7.0)\n",
      "Requirement already satisfied: statsmodels in /opt/conda/lib/python3.10/site-packages (from tobler>=0.8.2->pysal>=2.1->-r requirements.txt (line 5)) (0.14.0)\n",
      "Requirement already satisfied: rasterstats in /opt/conda/lib/python3.10/site-packages (from tobler>=0.8.2->pysal>=2.1->-r requirements.txt (line 5)) (0.19.0)\n",
      "Requirement already satisfied: sympy in /opt/conda/lib/python3.10/site-packages (from quantecon>=0.4.7->giddy>=2.3.3->pysal>=2.1->-r requirements.txt (line 5)) (1.12)\n",
      "Requirement already satisfied: llvmlite<0.41,>=0.40.0dev0 in /opt/conda/lib/python3.10/site-packages (from numba->segregation>=2.3.1->pysal>=2.1->-r requirements.txt (line 5)) (0.40.1rc1)\n",
      "Requirement already satisfied: soupsieve>1.2 in /opt/conda/lib/python3.10/site-packages (from beautifulsoup4->libpysal>=4.7.0->pysal>=2.1->-r requirements.txt (line 5)) (2.3.2.post1)\n",
      "Requirement already satisfied: MarkupSafe>=2.0 in /opt/conda/lib/python3.10/site-packages (from jinja2->libpysal>=4.7.0->pysal>=2.1->-r requirements.txt (line 5)) (2.1.1)\n",
      "Requirement already satisfied: simplejson in /opt/conda/lib/python3.10/site-packages (from rasterstats->tobler>=0.8.2->pysal>=2.1->-r requirements.txt (line 5)) (3.19.1)\n",
      "Requirement already satisfied: patsy>=0.5.2 in /opt/conda/lib/python3.10/site-packages (from statsmodels->tobler>=0.8.2->pysal>=2.1->-r requirements.txt (line 5)) (0.5.3)\n",
      "Requirement already satisfied: mpmath>=0.19 in /opt/conda/lib/python3.10/site-packages (from sympy->quantecon>=0.4.7->giddy>=2.3.3->pysal>=2.1->-r requirements.txt (line 5)) (1.3.0)\n"
     ]
    }
   ],
   "source": [
    "!pip install -r requirements.txt"
   ]
  },
  {
   "cell_type": "code",
   "execution_count": 11,
   "id": "4a09f3a6-1ac6-47a0-b819-3a79d0aa6e3f",
   "metadata": {},
   "outputs": [],
   "source": [
    "%matplotlib notebook\n",
    "\n",
    "from pathlib import Path\n",
    "import matplotlib.pyplot as plt\n",
    "import pickle\n",
    "import pandas as pd\n",
    "import seaborn as sb\n",
    "\n",
    "from common import sensitivity_tr_rbcd, plot_sensitivity_rbcds_transects\n",
    "from sandpyper import ProfileDynamics\n",
    "\n",
    "pd.options.mode.chained_assignment = None  # default='warn'"
   ]
  },
  {
   "cell_type": "code",
   "execution_count": 12,
   "id": "52d09b57-a79d-4c68-95cb-dfbb31169329",
   "metadata": {},
   "outputs": [],
   "source": [
    "# set the test data folder path\n",
    "test_data_folder = r\"test_data\"\n",
    "\n",
    "ProfileSet_path=Path(test_data_folder + r\"/test.p\")"
   ]
  },
  {
   "cell_type": "code",
   "execution_count": 13,
   "id": "dfda2837-2f59-49c9-9a85-865abd401519",
   "metadata": {},
   "outputs": [],
   "source": [
    "P=pickle.load(open(ProfileSet_path, \"rb\"))"
   ]
  },
  {
   "cell_type": "code",
   "execution_count": 14,
   "id": "8fd62a67-fda0-4fa3-85cf-dbcc5cd46450",
   "metadata": {},
   "outputs": [],
   "source": [
    "labels=[\"Undefined\", \"Small\", \"Medium\", \"High\", \"Extreme\"]"
   ]
  },
  {
   "cell_type": "code",
   "execution_count": 15,
   "id": "35bc9327-b343-46dc-a8ac-09e57add8c05",
   "metadata": {},
   "outputs": [
    {
     "name": "stdout",
     "output_type": "stream",
     "text": [
      "Data will be partitioned into 5 discrete classes.\n",
      "Labels provided.\n"
     ]
    }
   ],
   "source": [
    "D = ProfileDynamics(P, bins=5, method=\"JenksCaspall\", labels=labels)"
   ]
  },
  {
   "cell_type": "code",
   "execution_count": 16,
   "id": "62518e32-ba50-415c-9e06-879475991cef",
   "metadata": {},
   "outputs": [
    {
     "name": "stdout",
     "output_type": "stream",
     "text": [
      "Filter activated: only ['sand'] points will be retained.\n",
      "working on leo\n"
     ]
    },
    {
     "data": {
      "application/vnd.jupyter.widget-view+json": {
       "model_id": "c6222bff71c44f8d9a983c7fd66ab433",
       "version_major": 2,
       "version_minor": 0
      },
      "text/plain": [
       "  0%|          | 0/6 [00:00<?, ?it/s]"
      ]
     },
     "metadata": {},
     "output_type": "display_data"
    },
    {
     "name": "stdout",
     "output_type": "stream",
     "text": [
      "Calculating dt0, from 20180606 to 20180713 in leo.\n",
      "Calculating dt1, from 20180713 to 20180920 in leo.\n",
      "Calculating dt2, from 20180920 to 20190211 in leo.\n",
      "Calculating dt3, from 20190211 to 20190328 in leo.\n",
      "Calculating dt4, from 20190328 to 20190731 in leo.\n",
      "working on mar\n"
     ]
    },
    {
     "data": {
      "application/vnd.jupyter.widget-view+json": {
       "model_id": "8e6780972e5f47c0ba4a56243907d5fb",
       "version_major": 2,
       "version_minor": 0
      },
      "text/plain": [
       "  0%|          | 0/1 [00:00<?, ?it/s]"
      ]
     },
     "metadata": {},
     "output_type": "display_data"
    },
    {
     "name": "stdout",
     "output_type": "stream",
     "text": [
      "done\n"
     ]
    },
    {
     "ename": "TypeError",
     "evalue": "DataFrame.drop() takes from 1 to 2 positional arguments but 3 positional arguments (and 1 keyword-only argument) were given",
     "output_type": "error",
     "traceback": [
      "\u001b[0;31m---------------------------------------------------------------------------\u001b[0m",
      "\u001b[0;31mTypeError\u001b[0m                                 Traceback (most recent call last)",
      "Cell \u001b[0;32mIn[16], line 1\u001b[0m\n\u001b[0;32m----> 1\u001b[0m \u001b[43mD\u001b[49m\u001b[38;5;241;43m.\u001b[39;49m\u001b[43mcompute_multitemporal\u001b[49m\u001b[43m(\u001b[49m\u001b[43mloc_full\u001b[49m\u001b[38;5;241;43m=\u001b[39;49m\u001b[43m{\u001b[49m\u001b[38;5;124;43m'\u001b[39;49m\u001b[38;5;124;43mmar\u001b[39;49m\u001b[38;5;124;43m'\u001b[39;49m\u001b[43m:\u001b[49m\u001b[43m \u001b[49m\u001b[38;5;124;43m'\u001b[39;49m\u001b[38;5;124;43mMarengo\u001b[39;49m\u001b[38;5;124;43m'\u001b[39;49m\u001b[43m,\u001b[49m\n\u001b[1;32m      2\u001b[0m \u001b[43m         \u001b[49m\u001b[38;5;124;43m'\u001b[39;49m\u001b[38;5;124;43mleo\u001b[39;49m\u001b[38;5;124;43m'\u001b[39;49m\u001b[43m:\u001b[49m\u001b[43m \u001b[49m\u001b[38;5;124;43m'\u001b[39;49m\u001b[38;5;124;43mSt. Leonards\u001b[39;49m\u001b[38;5;124;43m'\u001b[39;49m\u001b[43m}\u001b[49m\u001b[43m,\u001b[49m\u001b[43m \u001b[49m\u001b[43mfilter_class\u001b[49m\u001b[38;5;241;43m=\u001b[39;49m\u001b[38;5;124;43m'\u001b[39;49m\u001b[38;5;124;43msand\u001b[39;49m\u001b[38;5;124;43m'\u001b[39;49m\u001b[43m)\u001b[49m\n",
      "File \u001b[0;32m~/coastal/sandpyper.py:407\u001b[0m, in \u001b[0;36mProfileDynamics.compute_multitemporal\u001b[0;34m(self, loc_full, lod_mode, geometry_column, date_field, filter_class)\u001b[0m\n\u001b[1;32m    387\u001b[0m \u001b[38;5;124;03m\"\"\"Compute points elevation change timeseries. Additionally, when LoD profiles had been provided during the ProfileSet object instantiation, compute LoD points as well. Additionally, creates time periods details table (dh_details).\u001b[39;00m\n\u001b[1;32m    388\u001b[0m \n\u001b[1;32m    389\u001b[0m \u001b[38;5;124;03mArgs:\u001b[39;00m\n\u001b[0;32m   (...)\u001b[0m\n\u001b[1;32m    399\u001b[0m \u001b[38;5;124;03m    lod_dh (pd.DataFrame): Dataframe storing elevation change timeseries of points along LoD transects. Stored in the ProfileDynamics.lod_dh attribute.\u001b[39;00m\n\u001b[1;32m    400\u001b[0m \u001b[38;5;124;03m\"\"\"\u001b[39;00m\n\u001b[1;32m    402\u001b[0m \u001b[38;5;28mself\u001b[39m\u001b[38;5;241m.\u001b[39mdh_df \u001b[38;5;241m=\u001b[39m compute_multitemporal(\u001b[38;5;28mself\u001b[39m\u001b[38;5;241m.\u001b[39mProfileSet\u001b[38;5;241m.\u001b[39mprofiles,\n\u001b[1;32m    403\u001b[0m     geometry_column\u001b[38;5;241m=\u001b[39mgeometry_column,\n\u001b[1;32m    404\u001b[0m     date_field\u001b[38;5;241m=\u001b[39mdate_field,\n\u001b[1;32m    405\u001b[0m     filter_class\u001b[38;5;241m=\u001b[39mfilter_class)\n\u001b[0;32m--> 407\u001b[0m \u001b[38;5;28mself\u001b[39m\u001b[38;5;241m.\u001b[39mdh_details \u001b[38;5;241m=\u001b[39m \u001b[43mcreate_details_df\u001b[49m\u001b[43m(\u001b[49m\u001b[38;5;28;43mself\u001b[39;49m\u001b[38;5;241;43m.\u001b[39;49m\u001b[43mdh_df\u001b[49m\u001b[43m,\u001b[49m\u001b[43m \u001b[49m\u001b[43mloc_full\u001b[49m\u001b[43m)\u001b[49m\n\u001b[1;32m    408\u001b[0m \u001b[38;5;28mself\u001b[39m\u001b[38;5;241m.\u001b[39mland_limits\u001b[38;5;241m=\u001b[39mpd\u001b[38;5;241m.\u001b[39mDataFrame(\u001b[38;5;28mself\u001b[39m\u001b[38;5;241m.\u001b[39mdh_df\u001b[38;5;241m.\u001b[39mgroupby([\u001b[38;5;124m\"\u001b[39m\u001b[38;5;124mlocation\u001b[39m\u001b[38;5;124m\"\u001b[39m])\u001b[38;5;241m.\u001b[39mdistance\u001b[38;5;241m.\u001b[39mmax())\u001b[38;5;241m.\u001b[39mreset_index()\n\u001b[1;32m    410\u001b[0m \u001b[38;5;28;01mif\u001b[39;00m lod_mode\u001b[38;5;241m==\u001b[39m\u001b[38;5;124m'\u001b[39m\u001b[38;5;124minherited\u001b[39m\u001b[38;5;124m'\u001b[39m:\n",
      "File \u001b[0;32m~/coastal/common.py:666\u001b[0m, in \u001b[0;36mcreate_details_df\u001b[0;34m(dh_df, loc_full, fmt)\u001b[0m\n\u001b[1;32m    663\u001b[0m locs_dt_str[\u001b[38;5;124m'\u001b[39m\u001b[38;5;124mloc_full\u001b[39m\u001b[38;5;124m'\u001b[39m]\u001b[38;5;241m=\u001b[39mlocs_dt_str\u001b[38;5;241m.\u001b[39mlocation\u001b[38;5;241m.\u001b[39mmap(loc_full)\n\u001b[1;32m    665\u001b[0m \u001b[38;5;66;03m# some cleaning and renaming\u001b[39;00m\n\u001b[0;32m--> 666\u001b[0m \u001b[43mlocs_dt_str\u001b[49m\u001b[38;5;241;43m.\u001b[39;49m\u001b[43mdrop\u001b[49m\u001b[43m(\u001b[49m\u001b[38;5;124;43m'\u001b[39;49m\u001b[38;5;124;43morderid\u001b[39;49m\u001b[38;5;124;43m'\u001b[39;49m\u001b[43m,\u001b[49m\u001b[38;5;241;43m1\u001b[39;49m\u001b[43m,\u001b[49m\u001b[43minplace\u001b[49m\u001b[38;5;241;43m=\u001b[39;49m\u001b[38;5;28;43;01mTrue\u001b[39;49;00m\u001b[43m)\u001b[49m\n\u001b[1;32m    668\u001b[0m \u001b[38;5;28;01mreturn\u001b[39;00m locs_dt_str\n",
      "\u001b[0;31mTypeError\u001b[0m: DataFrame.drop() takes from 1 to 2 positional arguments but 3 positional arguments (and 1 keyword-only argument) were given"
     ]
    }
   ],
   "source": [
    "D.compute_multitemporal(loc_full={'mar': 'Marengo',\n",
    "         'leo': 'St. Leonards'}, filter_class='sand')"
   ]
  },
  {
   "cell_type": "code",
   "execution_count": null,
   "id": "236042fe-7ee1-43f8-908a-617708b68f0c",
   "metadata": {},
   "outputs": [],
   "source": [
    "D.dh_df.head()"
   ]
  },
  {
   "cell_type": "code",
   "execution_count": null,
   "id": "8543f048-5035-4a20-845d-21cb2b4da986",
   "metadata": {},
   "outputs": [],
   "source": [
    "D.dh_details"
   ]
  },
  {
   "cell_type": "code",
   "execution_count": null,
   "id": "0e2dbabc-449c-403d-bb7d-5c95610b4399",
   "metadata": {},
   "outputs": [],
   "source": [
    "D.lod_dh.head()"
   ]
  },
  {
   "cell_type": "code",
   "execution_count": null,
   "id": "f53d8b64-e616-465b-b5ad-b7f8020e64d3",
   "metadata": {},
   "outputs": [],
   "source": [
    "D.lod_df.head()"
   ]
  },
  {
   "cell_type": "code",
   "execution_count": null,
   "id": "ec6fd1ae-dabc-4555-9a9e-b1d0d4de0801",
   "metadata": {},
   "outputs": [],
   "source": [
    "D.plot_lod_normality_check(locations=['leo'])"
   ]
  },
  {
   "cell_type": "code",
   "execution_count": null,
   "id": "adaf9dac-3727-46a1-b574-68b071a8403b",
   "metadata": {},
   "outputs": [],
   "source": [
    "# compute volumetrics\n",
    "\n",
    "D.compute_volumetrics(lod=D.lod_df)"
   ]
  },
  {
   "cell_type": "code",
   "execution_count": null,
   "id": "784d3ae6-a6f1-4d1d-a9c5-2da522b61bc7",
   "metadata": {},
   "outputs": [],
   "source": [
    "# let's plot transect ID 10 in Marengo, for dt_2 and dt_3 with no classification applied.\n",
    "\n",
    "D.plot_transects(location='mar', tr_id=10, from_date='20180727', to_date='20180925', classified=False)"
   ]
  },
  {
   "cell_type": "code",
   "execution_count": null,
   "id": "64f0c730-8315-4a48-b145-5bd190aa3d57",
   "metadata": {},
   "outputs": [],
   "source": [
    "# same, with classification applied.\n",
    "\n",
    "D.plot_transects(location='mar', tr_id=10, dt=['dt_2','dt_3'], classified=True)"
   ]
  },
  {
   "cell_type": "code",
   "execution_count": null,
   "id": "f39c4c25-57bb-4c67-b459-5fdde6b23c01",
   "metadata": {},
   "outputs": [],
   "source": [
    "# plots mean elevation change of transect ID 10 in marengo across all time periods\n",
    "# no LoD filter is applied, all the points are retained.\n",
    "\n",
    "D.plot_transect_mecs(location='mar',tr_id=10)"
   ]
  },
  {
   "cell_type": "code",
   "execution_count": null,
   "id": "0fbfd031-f74b-4006-be01-d6b90184972d",
   "metadata": {},
   "outputs": [],
   "source": [
    "# same as above but with the LoD filter applied, therefore retaining only reliable elvation changes.\n",
    "\n",
    "D.plot_transect_mecs(location='mar', lod=D.lod_df, tr_id=10)"
   ]
  },
  {
   "cell_type": "code",
   "execution_count": null,
   "id": "cd82d9ce-046b-4667-8c49-c265b27d7dc0",
   "metadata": {},
   "outputs": [],
   "source": [
    "# LoD in each period of change in Marengo\n",
    "D.lod_df.query(\"location=='mar'\")[['dt','lod']]"
   ]
  },
  {
   "cell_type": "code",
   "execution_count": null,
   "id": "e4940a1f-c14e-490b-b189-e8e8c44baec0",
   "metadata": {},
   "outputs": [],
   "source": [
    "f, axs=plt.subplots(nrows=2,\n",
    "                   ncols=2,\n",
    "                   figsize=(8,8))\n",
    "\n",
    "# Marengo dt_0\n",
    "sb.kdeplot(data=D.dh_df.query(\"location=='mar' and dt=='dt_0'\"),\n",
    "            x='dh', ax=axs[0][0])\n",
    "axs[0][0].axvspan(-0.03, 0.03, color='r', alpha=0.3, lw=0)\n",
    "axs[0][0].set_title('Marengo dt_0')\n",
    "\n",
    "# Marengo dt_2\n",
    "sb.kdeplot(data=D.dh_df.query(\"location=='mar' and dt=='dt_2'\"),\n",
    "            x='dh', ax=axs[0][1])\n",
    "axs[0][1].axvspan(-0.03, 0.03, color='r', alpha=0.3, lw=0)\n",
    "axs[0][1].set_title('Marengo dt_2')\n",
    "\n",
    "# Marengo dt_4\n",
    "sb.kdeplot(data=D.dh_df.query(\"location=='mar' and dt=='dt_4'\"),\n",
    "            x='dh', ax=axs[1][0])\n",
    "axs[1][0].axvspan(-0.1, 0.1, color='r', alpha=0.3, lw=0)\n",
    "axs[1][0].set_title('Marengo dt_4')\n",
    "\n",
    "# Marengo dt_6\n",
    "sb.kdeplot(data=D.dh_df.query(\"location=='mar' and dt=='dt_6'\"),\n",
    "            x='dh', ax=axs[1][1])\n",
    "axs[1][1].axvspan(-0.04, 0.04, color='r', alpha=0.3, lw=0)\n",
    "axs[1][1].set_title('Marengo dt_6')"
   ]
  },
  {
   "cell_type": "code",
   "execution_count": null,
   "id": "760c44aa-dafb-40a8-a237-5f94daa6dcd4",
   "metadata": {},
   "outputs": [],
   "source": [
    "D.plot_alongshore_change(mode='subset',       # to plot only a subset of locations and dts, rather than all\n",
    "                         dt_subset=['dt_2', 'dt_3'],\n",
    "                         location_subset=[\"mar\"],\n",
    "                         lod=D.lod_df, # LoD will be applied when provided in form of lod dataframe or single (global) value\n",
    "                         ax2_y_lims=(-10, 20), # lineplot y axis limits\n",
    "                        fig_size=(10,6),\n",
    "                        font_scale=.9,\n",
    "                        plots_spacing=0, # spacing between the two plots. Try .1, it is also nice\n",
    "                        bottom=True,\n",
    "                        y_heat_bottom_limit=40, # how far seawar the heatmap will extent.\n",
    "                        heat_yticklabels_freq=10,\n",
    "                        heat_xticklabels_freq=10,)"
   ]
  },
  {
   "cell_type": "code",
   "execution_count": null,
   "id": "e62ca7b6-4028-47f7-85c4-674715f5bf57",
   "metadata": {},
   "outputs": [],
   "source": [
    "D.plot_single_loc([\"mar\"],None)"
   ]
  },
  {
   "cell_type": "code",
   "execution_count": null,
   "id": "dddbe99e-a604-4ff3-9471-7411eeb98125",
   "metadata": {},
   "outputs": [],
   "source": [
    "# scale_mode can be 'auto', which means the x axis is location-specific, or 'equal', better for comparison.\n",
    "\n",
    "D.plot_mec_evolution(x_limits=(-.2, .8), scale_mode='equal',\n",
    "                     loc_order=[\"leo\",\"mar\"],\n",
    "                    x_binning=10,\n",
    "                    figure_size=(6, 7),\n",
    "                    font_scale=1.2)"
   ]
  },
  {
   "cell_type": "code",
   "execution_count": null,
   "id": "d7cc7025-dd6c-4a10-9b3f-9e862536065d",
   "metadata": {},
   "outputs": [],
   "source": [
    "# scale_mode can be 'auto', which means the x axis is location-specific, or 'equal', better for comparison.\n",
    "\n",
    "D.plot_mec_evolution(x_limits=(-.2, .8), scale_mode='auto',\n",
    "                     loc_order=[\"leo\",\"mar\"],\n",
    "                    x_binning=10,\n",
    "                    figure_size=(6, 7),\n",
    "                    font_scale=1.2)"
   ]
  },
  {
   "cell_type": "code",
   "execution_count": null,
   "id": "6a3e7fcf-c5a2-44cf-ac83-fc8086fa7d4a",
   "metadata": {},
   "outputs": [],
   "source": [
    "x_diff={'leo':[-0.12, 0.1]}\n",
    "\n",
    "D.plot_mec_evolution(x_limits=(-.2, .8), scale_mode='equal',\n",
    "                     x_diff=x_diff,\n",
    "                     dates_step=15,\n",
    "                     loc_order=[\"leo\",\"mar\"],\n",
    "                    x_binning=10,\n",
    "                    figure_size=(6, 7),\n",
    "                    font_scale=1.2)"
   ]
  },
  {
   "cell_type": "code",
   "execution_count": null,
   "id": "57c96b14-abaa-4395-9e2a-27aa8d49d213",
   "metadata": {},
   "outputs": [],
   "source": [
    "D.LISA_site_level(mode=\"knn\", k_value=50)"
   ]
  },
  {
   "cell_type": "code",
   "execution_count": null,
   "id": "eaff6f3d-fa6a-40a3-b3f7-7113ac04eccf",
   "metadata": {},
   "outputs": [],
   "source": [
    "D.hotspots.shape"
   ]
  },
  {
   "cell_type": "code",
   "execution_count": null,
   "id": "795c968f-b2dd-4b27-8fe6-30037e21a063",
   "metadata": {},
   "outputs": [],
   "source": [
    "D.hotspots.query(\"location=='leo' and dt=='dt_2' and lisa_q in [1,3]\").plot(column='lisa_q', categorical=True,\n",
    "                                                                            cmap='RdBu')"
   ]
  },
  {
   "cell_type": "code",
   "execution_count": null,
   "id": "b6c04fe6-df81-4e40-a725-7c74f9cb1a0c",
   "metadata": {},
   "outputs": [],
   "source": [
    "appendix=[\"_deposition\", \"_erosion\"]\n",
    "\n",
    "D.discretise(absolute=True, print_summary=True, lod=D.lod_df, appendix=appendix)"
   ]
  },
  {
   "cell_type": "code",
   "execution_count": null,
   "id": "57568517-69f9-4dcb-bf91-f8efd62164d3",
   "metadata": {},
   "outputs": [],
   "source": [
    "D.infer_weights()\n",
    "\n",
    "D.weights_dict"
   ]
  },
  {
   "cell_type": "code",
   "execution_count": null,
   "id": "54c7fa13-8660-42fb-a45a-1f31e77b9a25",
   "metadata": {},
   "outputs": [],
   "source": [
    "# create the weight dictionary\n",
    "\n",
    "my_weights_dict={'Undefined_deposition': 1,\n",
    " 'Undefined_erosion': 1,\n",
    " 'Small_deposition': 1,\n",
    " 'Small_erosion': 1,\n",
    " 'Medium_deposition': 1,\n",
    " 'Medium_erosion': 1,\n",
    " 'High_deposition': 3,\n",
    " 'High_erosion': 3,\n",
    " 'Extreme_deposition': 8,\n",
    " 'Extreme_erosion': 8}\n",
    "\n",
    "# add it to the ProfileDynamics object\n",
    "\n",
    "D.weights_dict = my_weights_dict\n",
    "\n",
    "D.weights_dict"
   ]
  },
  {
   "cell_type": "code",
   "execution_count": null,
   "id": "519e989b-d20c-4382-932a-9e3b3a2c726a",
   "metadata": {},
   "outputs": [],
   "source": [
    "D.infer_weights()\n",
    "\n",
    "D.weights_dict"
   ]
  },
  {
   "cell_type": "code",
   "execution_count": null,
   "id": "e0d4e63d-9293-40b4-83c1-901da3cbbb38",
   "metadata": {},
   "outputs": [],
   "source": [
    "D.BCD_compute_location(\"geometry\",\"all\",True, filterit='lod')"
   ]
  },
  {
   "cell_type": "code",
   "execution_count": null,
   "id": "09b8df91-8444-487e-b0f8-a9559b808e01",
   "metadata": {},
   "outputs": [],
   "source": [
    "D.location_ebcds"
   ]
  },
  {
   "cell_type": "code",
   "execution_count": null,
   "id": "fc5ab047-fc1d-48c7-a780-774c7f7d1615",
   "metadata": {},
   "outputs": [],
   "source": [
    "D.location_ss"
   ]
  },
  {
   "cell_type": "code",
   "execution_count": null,
   "id": "63d4e572-7287-40bc-886c-7de663a82290",
   "metadata": {},
   "outputs": [],
   "source": [
    "# the following dictionary is used to rename the magnitude of change classes into small codes\n",
    "#such as 'me' for Medium Erosion or 'sd' for Small Deposition. This is done purely for graphical purposes.\n",
    "\n",
    "relabel_dict={'Undefined_deposition': 'ue',\n",
    " 'Undefined_erosion': 'ue',\n",
    " 'Small_deposition': 'sd',\n",
    " 'Small_erosion': 'se',\n",
    " 'Medium_deposition': 'md',\n",
    " 'Medium_erosion': 'me',\n",
    " 'High_deposition': 'hd',\n",
    " 'High_erosion': 'he',\n",
    " 'Extreme_deposition': 'ed',\n",
    " 'Extreme_erosion': 'ee'}"
   ]
  },
  {
   "cell_type": "code",
   "execution_count": null,
   "id": "ad575cef-40fb-4b1e-a20e-15ac7d04e579",
   "metadata": {},
   "outputs": [],
   "source": [
    "%matplotlib inline\n",
    "\n",
    "#let's plot those matrices\n",
    "\n",
    "D.plot_trans_matrices(relabel_dict)"
   ]
  },
  {
   "cell_type": "code",
   "execution_count": null,
   "id": "b3c11b62-a61b-4785-92c5-9675acab7f1d",
   "metadata": {},
   "outputs": [],
   "source": [
    "%matplotlib inline\n",
    "\n",
    "#let's plot those matrices\n",
    "\n",
    "D.plot_trans_matrices(relabel_dict)"
   ]
  },
  {
   "cell_type": "code",
   "execution_count": null,
   "id": "5c35b1c2-87ea-46f6-bdf9-d13ee64d70b4",
   "metadata": {},
   "outputs": [],
   "source": [
    "order=[i for i in D.tags_order if i !='nnn']\n",
    "ss=D.location_ss.loc[order] \n",
    "ss"
   ]
  },
  {
   "cell_type": "code",
   "execution_count": null,
   "id": "bf3ba5a8-039c-42b6-85c3-cc508ba93fe4",
   "metadata": {},
   "outputs": [],
   "source": [
    "plt.rcParams['font.sans-serif'] = 'Arial'\n",
    "plt.rcParams['font.family'] = 'sans-serif'\n",
    "sb.set_context(\"paper\", font_scale=2)\n",
    "\n",
    "\n",
    "f,ax=plt.subplots(figsize=(12,10))\n",
    "\n",
    "sb.heatmap(ss, cmap=\"Blues\",annot=True,\n",
    "           annot_kws={'size':14},linewidths=1,linecolor=\"white\", cbar_kws={'label': 'Lim. Probabilities'});\n",
    "\n",
    "#f.savefig(r'E:\\\\path\\\\to\\\\save\\\\picture.png', dpi=600); "
   ]
  },
  {
   "cell_type": "code",
   "execution_count": null,
   "id": "aceab107-6e3c-41d4-956d-32f848051792",
   "metadata": {},
   "outputs": [],
   "source": [
    "loc_specs={'mar':{'thresh':6,\n",
    "       'min_points':6}}\n",
    "\n",
    "D.BCD_compute_transects(loc_specs=loc_specs,reliable_action='keep', dirNameTrans=D.ProfileSet.dirNameTrans)"
   ]
  },
  {
   "cell_type": "code",
   "execution_count": null,
   "id": "dbe67d68-d253-49c2-ac32-f99692fcf7ad",
   "metadata": {},
   "outputs": [],
   "source": [
    "D.transects_rbcd.query(\"location=='mar'\").plot(column=\"residual\", cmap='RdBu_r')"
   ]
  },
  {
   "cell_type": "code",
   "execution_count": null,
   "id": "065bf752-26d4-49ee-a622-cc061ffe84e5",
   "metadata": {},
   "outputs": [],
   "source": [
    "ss_tr_big = sensitivity_tr_rbcd(D,\n",
    "                                test_thresholds='max',\n",
    "                                test_min_pts=[0,20,2])"
   ]
  },
  {
   "cell_type": "code",
   "execution_count": null,
   "id": "c62c7389-de1f-4f03-9bef-885f30d8df3c",
   "metadata": {},
   "outputs": [],
   "source": [
    "f,ax=plt.subplots(figsize=(10,10))\n",
    "\n",
    "palette=sb.color_palette( n_colors=ss_tr_big.query(\"location=='mar'\").tr_id.unique().shape[0])\n",
    "sb.lineplot(data=ss_tr_big.query(\"location=='mar'\"), x='thresh',y='residual', hue='tr_id', \n",
    "            palette=palette, legend=False, **dict(alpha=0.5),\n",
    "            ax=ax\n",
    ")\n",
    "ax.set_ylabel(\"r_bcd\")\n",
    "ax.axhline(y=0, lw=2, c='r');"
   ]
  },
  {
   "cell_type": "code",
   "execution_count": null,
   "id": "bcad8e8e-de4c-4e45-b3ea-de178337fe60",
   "metadata": {},
   "outputs": [],
   "source": [
    "plot_sensitivity_rbcds_transects(ss_tr_big, location='mar')"
   ]
  },
  {
   "cell_type": "code",
   "execution_count": null,
   "id": "81f941b3-86cb-4fda-a7dd-fb3538c6d2e6",
   "metadata": {},
   "outputs": [],
   "source": []
  }
 ],
 "metadata": {
  "kernelspec": {
   "display_name": "Python 3 (ipykernel)",
   "language": "python",
   "name": "python3"
  },
  "language_info": {
   "codemirror_mode": {
    "name": "ipython",
    "version": 3
   },
   "file_extension": ".py",
   "mimetype": "text/x-python",
   "name": "python",
   "nbconvert_exporter": "python",
   "pygments_lexer": "ipython3",
   "version": "3.10.8"
  }
 },
 "nbformat": 4,
 "nbformat_minor": 5
}
